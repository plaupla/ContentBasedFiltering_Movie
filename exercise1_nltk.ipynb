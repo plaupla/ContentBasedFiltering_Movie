{
 "cells": [
  {
   "cell_type": "code",
   "execution_count": 7,
   "metadata": {},
   "outputs": [],
   "source": [
    " #This Python 3 environment comes with many helpful analytics libraries installed\n",
    "# It is defined by the kaggle/python Docker image: https://github.com/kaggle/docker-python\n",
    "# For example, here's several helpful packages to load\n",
    "\n",
    "import numpy as np # linear algebra\n",
    "import pandas as pd # data processing, CSV file I/O (e.g. pd.read_csv)\n",
    "\n",
    "# Input data files are available in the read-only \"../input/\" directory\n",
    "# For example, running this (by clicking run or pressing Shift+Enter) will list all files under the input directory\n",
    "\n",
    "import os\n",
    "for dirname, _, filenames in os.walk('/kaggle/input'):\n",
    "    for filename in filenames:\n",
    "        print(os.path.join(dirname, filename))\n"
   ]
  },
  {
   "cell_type": "code",
   "execution_count": 9,
   "metadata": {},
   "outputs": [],
   "source": [
    "import matplotlib.pyplot as plt\n",
    "import seaborn as sns\n",
    "import nltk\n",
    "from nltk.tokenize import word_tokenize \n",
    "\n",
    "plt.rcParams['figure.figsize'] = (13, 7)"
   ]
  },
  {
   "cell_type": "code",
   "execution_count": 10,
   "metadata": {},
   "outputs": [
    {
     "data": {
      "text/html": [
       "<div>\n",
       "<style scoped>\n",
       "    .dataframe tbody tr th:only-of-type {\n",
       "        vertical-align: middle;\n",
       "    }\n",
       "\n",
       "    .dataframe tbody tr th {\n",
       "        vertical-align: top;\n",
       "    }\n",
       "\n",
       "    .dataframe thead th {\n",
       "        text-align: right;\n",
       "    }\n",
       "</style>\n",
       "<table border=\"1\" class=\"dataframe\">\n",
       "  <thead>\n",
       "    <tr style=\"text-align: right;\">\n",
       "      <th></th>\n",
       "      <th>show_id</th>\n",
       "      <th>type</th>\n",
       "      <th>title</th>\n",
       "      <th>director</th>\n",
       "      <th>cast</th>\n",
       "      <th>country</th>\n",
       "      <th>date_added</th>\n",
       "      <th>release_year</th>\n",
       "      <th>rating</th>\n",
       "      <th>duration</th>\n",
       "      <th>listed_in</th>\n",
       "      <th>description</th>\n",
       "    </tr>\n",
       "  </thead>\n",
       "  <tbody>\n",
       "    <tr>\n",
       "      <th>0</th>\n",
       "      <td>s1</td>\n",
       "      <td>Movie</td>\n",
       "      <td>Dick Johnson Is Dead</td>\n",
       "      <td>Kirsten Johnson</td>\n",
       "      <td>NaN</td>\n",
       "      <td>United States</td>\n",
       "      <td>September 25, 2021</td>\n",
       "      <td>2020</td>\n",
       "      <td>PG-13</td>\n",
       "      <td>90 min</td>\n",
       "      <td>Documentaries</td>\n",
       "      <td>As her father nears the end of his life, filmm...</td>\n",
       "    </tr>\n",
       "    <tr>\n",
       "      <th>1</th>\n",
       "      <td>s2</td>\n",
       "      <td>TV Show</td>\n",
       "      <td>Blood &amp; Water</td>\n",
       "      <td>NaN</td>\n",
       "      <td>Ama Qamata, Khosi Ngema, Gail Mabalane, Thaban...</td>\n",
       "      <td>South Africa</td>\n",
       "      <td>September 24, 2021</td>\n",
       "      <td>2021</td>\n",
       "      <td>TV-MA</td>\n",
       "      <td>2 Seasons</td>\n",
       "      <td>International TV Shows, TV Dramas, TV Mysteries</td>\n",
       "      <td>After crossing paths at a party, a Cape Town t...</td>\n",
       "    </tr>\n",
       "    <tr>\n",
       "      <th>2</th>\n",
       "      <td>s3</td>\n",
       "      <td>TV Show</td>\n",
       "      <td>Ganglands</td>\n",
       "      <td>Julien Leclercq</td>\n",
       "      <td>Sami Bouajila, Tracy Gotoas, Samuel Jouy, Nabi...</td>\n",
       "      <td>NaN</td>\n",
       "      <td>September 24, 2021</td>\n",
       "      <td>2021</td>\n",
       "      <td>TV-MA</td>\n",
       "      <td>1 Season</td>\n",
       "      <td>Crime TV Shows, International TV Shows, TV Act...</td>\n",
       "      <td>To protect his family from a powerful drug lor...</td>\n",
       "    </tr>\n",
       "    <tr>\n",
       "      <th>3</th>\n",
       "      <td>s4</td>\n",
       "      <td>TV Show</td>\n",
       "      <td>Jailbirds New Orleans</td>\n",
       "      <td>NaN</td>\n",
       "      <td>NaN</td>\n",
       "      <td>NaN</td>\n",
       "      <td>September 24, 2021</td>\n",
       "      <td>2021</td>\n",
       "      <td>TV-MA</td>\n",
       "      <td>1 Season</td>\n",
       "      <td>Docuseries, Reality TV</td>\n",
       "      <td>Feuds, flirtations and toilet talk go down amo...</td>\n",
       "    </tr>\n",
       "    <tr>\n",
       "      <th>4</th>\n",
       "      <td>s5</td>\n",
       "      <td>TV Show</td>\n",
       "      <td>Kota Factory</td>\n",
       "      <td>NaN</td>\n",
       "      <td>Mayur More, Jitendra Kumar, Ranjan Raj, Alam K...</td>\n",
       "      <td>India</td>\n",
       "      <td>September 24, 2021</td>\n",
       "      <td>2021</td>\n",
       "      <td>TV-MA</td>\n",
       "      <td>2 Seasons</td>\n",
       "      <td>International TV Shows, Romantic TV Shows, TV ...</td>\n",
       "      <td>In a city of coaching centers known to train I...</td>\n",
       "    </tr>\n",
       "  </tbody>\n",
       "</table>\n",
       "</div>"
      ],
      "text/plain": [
       "  show_id     type                  title         director  \\\n",
       "0      s1    Movie   Dick Johnson Is Dead  Kirsten Johnson   \n",
       "1      s2  TV Show          Blood & Water              NaN   \n",
       "2      s3  TV Show              Ganglands  Julien Leclercq   \n",
       "3      s4  TV Show  Jailbirds New Orleans              NaN   \n",
       "4      s5  TV Show           Kota Factory              NaN   \n",
       "\n",
       "                                                cast        country  \\\n",
       "0                                                NaN  United States   \n",
       "1  Ama Qamata, Khosi Ngema, Gail Mabalane, Thaban...   South Africa   \n",
       "2  Sami Bouajila, Tracy Gotoas, Samuel Jouy, Nabi...            NaN   \n",
       "3                                                NaN            NaN   \n",
       "4  Mayur More, Jitendra Kumar, Ranjan Raj, Alam K...          India   \n",
       "\n",
       "           date_added  release_year rating   duration  \\\n",
       "0  September 25, 2021          2020  PG-13     90 min   \n",
       "1  September 24, 2021          2021  TV-MA  2 Seasons   \n",
       "2  September 24, 2021          2021  TV-MA   1 Season   \n",
       "3  September 24, 2021          2021  TV-MA   1 Season   \n",
       "4  September 24, 2021          2021  TV-MA  2 Seasons   \n",
       "\n",
       "                                           listed_in  \\\n",
       "0                                      Documentaries   \n",
       "1    International TV Shows, TV Dramas, TV Mysteries   \n",
       "2  Crime TV Shows, International TV Shows, TV Act...   \n",
       "3                             Docuseries, Reality TV   \n",
       "4  International TV Shows, Romantic TV Shows, TV ...   \n",
       "\n",
       "                                         description  \n",
       "0  As her father nears the end of his life, filmm...  \n",
       "1  After crossing paths at a party, a Cape Town t...  \n",
       "2  To protect his family from a powerful drug lor...  \n",
       "3  Feuds, flirtations and toilet talk go down amo...  \n",
       "4  In a city of coaching centers known to train I...  "
      ]
     },
     "execution_count": 10,
     "metadata": {},
     "output_type": "execute_result"
    }
   ],
   "source": [
    "#take a look on the dataset\n",
    "df = pd.read_csv(\"/Users/ulfaoctaviani/Documents/UAL/Personalisation/ContentBasedFilteringMovie/netflix_titles.csv\")\n",
    "df.head(5)"
   ]
  },
  {
   "cell_type": "code",
   "execution_count": 11,
   "metadata": {},
   "outputs": [
    {
     "name": "stdout",
     "output_type": "stream",
     "text": [
      "<class 'pandas.core.frame.DataFrame'>\n",
      "RangeIndex: 8807 entries, 0 to 8806\n",
      "Data columns (total 12 columns):\n",
      " #   Column        Non-Null Count  Dtype \n",
      "---  ------        --------------  ----- \n",
      " 0   show_id       8807 non-null   object\n",
      " 1   type          8807 non-null   object\n",
      " 2   title         8807 non-null   object\n",
      " 3   director      6173 non-null   object\n",
      " 4   cast          7982 non-null   object\n",
      " 5   country       7976 non-null   object\n",
      " 6   date_added    8797 non-null   object\n",
      " 7   release_year  8807 non-null   int64 \n",
      " 8   rating        8803 non-null   object\n",
      " 9   duration      8804 non-null   object\n",
      " 10  listed_in     8807 non-null   object\n",
      " 11  description   8807 non-null   object\n",
      "dtypes: int64(1), object(11)\n",
      "memory usage: 825.8+ KB\n"
     ]
    }
   ],
   "source": [
    "#showing info for each featrue\n",
    "df.info()"
   ]
  },
  {
   "attachments": {},
   "cell_type": "markdown",
   "metadata": {},
   "source": [
    "Data Visualisation"
   ]
  },
  {
   "cell_type": "code",
   "execution_count": 12,
   "metadata": {},
   "outputs": [
    {
     "data": {
      "text/html": [
       "<div>\n",
       "<style scoped>\n",
       "    .dataframe tbody tr th:only-of-type {\n",
       "        vertical-align: middle;\n",
       "    }\n",
       "\n",
       "    .dataframe tbody tr th {\n",
       "        vertical-align: top;\n",
       "    }\n",
       "\n",
       "    .dataframe thead th {\n",
       "        text-align: right;\n",
       "    }\n",
       "</style>\n",
       "<table border=\"1\" class=\"dataframe\">\n",
       "  <thead>\n",
       "    <tr style=\"text-align: right;\">\n",
       "      <th></th>\n",
       "      <th>show_id</th>\n",
       "      <th>type</th>\n",
       "      <th>title</th>\n",
       "      <th>director</th>\n",
       "      <th>cast</th>\n",
       "      <th>country</th>\n",
       "      <th>date_added</th>\n",
       "      <th>release_year</th>\n",
       "      <th>rating</th>\n",
       "      <th>duration</th>\n",
       "      <th>listed_in</th>\n",
       "      <th>description</th>\n",
       "    </tr>\n",
       "  </thead>\n",
       "  <tbody>\n",
       "    <tr>\n",
       "      <th>0</th>\n",
       "      <td>s1</td>\n",
       "      <td>Movie</td>\n",
       "      <td>Dick Johnson Is Dead</td>\n",
       "      <td>Kirsten Johnson</td>\n",
       "      <td>NaN</td>\n",
       "      <td>United States</td>\n",
       "      <td>September 25, 2021</td>\n",
       "      <td>2020</td>\n",
       "      <td>PG-13</td>\n",
       "      <td>90 min</td>\n",
       "      <td>Documentaries</td>\n",
       "      <td>As her father nears the end of his life, filmm...</td>\n",
       "    </tr>\n",
       "  </tbody>\n",
       "</table>\n",
       "</div>"
      ],
      "text/plain": [
       "  show_id   type                 title         director cast        country  \\\n",
       "0      s1  Movie  Dick Johnson Is Dead  Kirsten Johnson  NaN  United States   \n",
       "\n",
       "           date_added  release_year rating duration      listed_in  \\\n",
       "0  September 25, 2021          2020  PG-13   90 min  Documentaries   \n",
       "\n",
       "                                         description  \n",
       "0  As her father nears the end of his life, filmm...  "
      ]
     },
     "execution_count": 12,
     "metadata": {},
     "output_type": "execute_result"
    }
   ],
   "source": [
    "df.head(1)"
   ]
  },
  {
   "attachments": {},
   "cell_type": "markdown",
   "metadata": {},
   "source": [
    "Is movies or TV shows bigger?"
   ]
  },
  {
   "cell_type": "code",
   "execution_count": 13,
   "metadata": {},
   "outputs": [
    {
     "data": {
      "image/png": "[encoded data removed]",
      "text/plain": [
       "<Figure size 432x288 with 1 Axes>"
      ]
     },
     "metadata": {},
     "output_type": "display_data"
    },
    {
     "data": {
      "text/plain": [
       "<Figure size 432x288 with 0 Axes>"
      ]
     },
     "metadata": {},
     "output_type": "display_data"
    }
   ],
   "source": [
    "def pie_chart(df, column ,explode , labels,title,no):\n",
    "    \n",
    "    plt.pie(df[column].value_counts(),\n",
    "            explode=explode,    #explode=[0.04,0]\n",
    "            startangle=90, \n",
    "            autopct='%1.1f%%',\n",
    "            labels=labels, #labels=['Males','Females']\n",
    "            colors = ['#66b3ff','#99ff99'],\n",
    "            pctdistance=.6,\n",
    "            textprops={'fontsize': 20})\n",
    "    plt.title(title)\n",
    "    plt.figure(no)\n",
    "\n",
    "pie_chart(df, \"type\" ,[0.15,0.05], ['Movies',\"TV series\"],\"Movie and TV Shows count\",0)"
   ]
  },
  {
   "attachments": {},
   "cell_type": "markdown",
   "metadata": {},
   "source": [
    "Top 10 Directors"
   ]
  },
  {
   "cell_type": "code",
   "execution_count": 14,
   "metadata": {},
   "outputs": [
    {
     "data": {
      "image/png": "[encoded data removed]",
      "text/plain": [
       "<Figure size 432x288 with 1 Axes>"
      ]
     },
     "metadata": {
      "needs_background": "light"
     },
     "output_type": "display_data"
    }
   ],
   "source": [
    "Top10_movies_directors = df[df['type'] == 'Movie']\n",
    "\n",
    "base_color = sns.color_palette()[1]\n",
    "\n",
    "sns.countplot(y = 'director',color= base_color, data = Top10_movies_directors, order = Top10_movies_directors.director.value_counts().head(10).index)\n",
    "\n",
    "plt.title(\"Top 10 Movie's Directors on Netflix\", fontsize = 20);"
   ]
  },
  {
   "cell_type": "code",
   "execution_count": 15,
   "metadata": {},
   "outputs": [
    {
     "data": {
      "image/png": "[encoded data removed]",
      "text/plain": [
       "<Figure size 432x288 with 1 Axes>"
      ]
     },
     "metadata": {
      "needs_background": "light"
     },
     "output_type": "display_data"
    }
   ],
   "source": [
    "Top10_Series_directors = df[df['type'] == 'TV Show']\n",
    "\n",
    "base_color = sns.color_palette()[2]\n",
    "\n",
    "sns.countplot(y = 'director',color= base_color, data = Top10_Series_directors, order = Top10_Series_directors.director.value_counts().head(10).index)\n",
    "\n",
    "plt.title(\"Top 10 TV Show's Directors on Netflix\", fontsize = 20);"
   ]
  },
  {
   "cell_type": "code",
   "execution_count": 16,
   "metadata": {},
   "outputs": [
    {
     "data": {
      "image/png": "[encoded data removed]",
      "text/plain": [
       "<Figure size 432x288 with 1 Axes>"
      ]
     },
     "metadata": {
      "needs_background": "light"
     },
     "output_type": "display_data"
    }
   ],
   "source": [
    "base_color = sns.color_palette()[3]\n",
    "\n",
    "sns.countplot(y = 'country',color= base_color, data = df, order = df.country.value_counts().head(10).index)\n",
    "\n",
    "plt.title(\"Top 10 Countries in film Production on Netflix\", fontsize = 20);"
   ]
  },
  {
   "attachments": {},
   "cell_type": "markdown",
   "metadata": {},
   "source": [
    "Data Cleanup"
   ]
  },
  {
   "cell_type": "code",
   "execution_count": 17,
   "metadata": {},
   "outputs": [
    {
     "data": {
      "text/plain": [
       "show_id            0\n",
       "type               0\n",
       "title              0\n",
       "director        2634\n",
       "cast             825\n",
       "country          831\n",
       "date_added        10\n",
       "release_year       0\n",
       "rating             4\n",
       "duration           3\n",
       "listed_in          0\n",
       "description        0\n",
       "dtype: int64"
      ]
     },
     "execution_count": 17,
     "metadata": {},
     "output_type": "execute_result"
    }
   ],
   "source": [
    "#now checking the NaN values\n",
    "df.isnull().sum()"
   ]
  },
  {
   "attachments": {},
   "cell_type": "markdown",
   "metadata": {},
   "source": [
    "As cast and country are important features when calculating the similarity between movies, i won't be able to fill them with a good information so, i will drop NaNs of them\n",
    "\n",
    "For director, if i dropped NaNs it will be a big loss of data so, i will fill it with Unknown"
   ]
  },
  {
   "cell_type": "code",
   "execution_count": 18,
   "metadata": {},
   "outputs": [],
   "source": [
    "df= df.dropna(subset=['cast','country'], axis = 0)\n",
    "df['director'] = df['director'].fillna(\"Unknown\")\n",
    "df = df.reset_index( drop=True)"
   ]
  },
  {
   "attachments": {},
   "cell_type": "markdown",
   "metadata": {},
   "source": [
    "Feature Engineering"
   ]
  },
  {
   "cell_type": "code",
   "execution_count": 19,
   "metadata": {},
   "outputs": [
    {
     "data": {
      "text/html": [
       "<div>\n",
       "<style scoped>\n",
       "    .dataframe tbody tr th:only-of-type {\n",
       "        vertical-align: middle;\n",
       "    }\n",
       "\n",
       "    .dataframe tbody tr th {\n",
       "        vertical-align: top;\n",
       "    }\n",
       "\n",
       "    .dataframe thead th {\n",
       "        text-align: right;\n",
       "    }\n",
       "</style>\n",
       "<table border=\"1\" class=\"dataframe\">\n",
       "  <thead>\n",
       "    <tr style=\"text-align: right;\">\n",
       "      <th></th>\n",
       "      <th>show_id</th>\n",
       "      <th>type</th>\n",
       "      <th>title</th>\n",
       "      <th>director</th>\n",
       "      <th>cast</th>\n",
       "      <th>country</th>\n",
       "      <th>date_added</th>\n",
       "      <th>release_year</th>\n",
       "      <th>rating</th>\n",
       "      <th>duration</th>\n",
       "      <th>listed_in</th>\n",
       "      <th>description</th>\n",
       "    </tr>\n",
       "  </thead>\n",
       "  <tbody>\n",
       "    <tr>\n",
       "      <th>0</th>\n",
       "      <td>s2</td>\n",
       "      <td>TV Show</td>\n",
       "      <td>Blood &amp; Water</td>\n",
       "      <td>Unknown</td>\n",
       "      <td>Ama Qamata, Khosi Ngema, Gail Mabalane, Thaban...</td>\n",
       "      <td>South Africa</td>\n",
       "      <td>September 24, 2021</td>\n",
       "      <td>2021</td>\n",
       "      <td>TV-MA</td>\n",
       "      <td>2 Seasons</td>\n",
       "      <td>International TV Shows, TV Dramas, TV Mysteries</td>\n",
       "      <td>After crossing paths at a party, a Cape Town t...</td>\n",
       "    </tr>\n",
       "  </tbody>\n",
       "</table>\n",
       "</div>"
      ],
      "text/plain": [
       "  show_id     type          title director  \\\n",
       "0      s2  TV Show  Blood & Water  Unknown   \n",
       "\n",
       "                                                cast       country  \\\n",
       "0  Ama Qamata, Khosi Ngema, Gail Mabalane, Thaban...  South Africa   \n",
       "\n",
       "           date_added  release_year rating   duration  \\\n",
       "0  September 24, 2021          2021  TV-MA  2 Seasons   \n",
       "\n",
       "                                         listed_in  \\\n",
       "0  International TV Shows, TV Dramas, TV Mysteries   \n",
       "\n",
       "                                         description  \n",
       "0  After crossing paths at a party, a Cape Town t...  "
      ]
     },
     "execution_count": 19,
     "metadata": {},
     "output_type": "execute_result"
    }
   ],
   "source": [
    "df.head(1)"
   ]
  },
  {
   "attachments": {},
   "cell_type": "markdown",
   "metadata": {},
   "source": [
    "Using Cosine Similarity to calculate the closeness of vector into multidimensional space.\n",
    "\n",
    "Cosine similarity is the measure of similarity between two vectors, by computing the cosine of the angle between two vectors projected into multidimensional space. It can be applied to items available on a dataset to compute similarity to one another via keywords or other metrics. Similarity between two vectors (A and B) is calculated by taking the dot product of the two vectors and dividing it by the magnitude value as shown in the equation below. We can simply say that the CS score of two vectors increases as the angle between them decreases."
   ]
  },
  {
   "cell_type": "code",
   "execution_count": 20,
   "metadata": {},
   "outputs": [
    {
     "name": "stdout",
     "output_type": "stream",
     "text": [
      "<class 'pandas.core.frame.DataFrame'>\n",
      "RangeIndex: 7305 entries, 0 to 7304\n",
      "Data columns (total 12 columns):\n",
      " #   Column        Non-Null Count  Dtype \n",
      "---  ------        --------------  ----- \n",
      " 0   show_id       7305 non-null   object\n",
      " 1   type          7305 non-null   object\n",
      " 2   title         7305 non-null   object\n",
      " 3   director      7305 non-null   object\n",
      " 4   cast          7305 non-null   object\n",
      " 5   country       7305 non-null   object\n",
      " 6   date_added    7296 non-null   object\n",
      " 7   release_year  7305 non-null   int64 \n",
      " 8   rating        7302 non-null   object\n",
      " 9   duration      7302 non-null   object\n",
      " 10  listed_in     7305 non-null   object\n",
      " 11  description   7305 non-null   object\n",
      "dtypes: int64(1), object(11)\n",
      "memory usage: 685.0+ KB\n"
     ]
    }
   ],
   "source": [
    "df.info()"
   ]
  },
  {
   "cell_type": "code",
   "execution_count": 21,
   "metadata": {},
   "outputs": [],
   "source": [
    "overall_infos = []\n",
    "for i in range(0, df.shape[0]):\n",
    "    overall_infos.append(df['type'][i]+' '+df['title'][i]+' '+df['director'][i]+' '+df['cast'][i]+' '+df['description'][i]+' '+df['country'][i])\n",
    "df['overall_infos'] = overall_infos"
   ]
  },
  {
   "attachments": {},
   "cell_type": "markdown",
   "metadata": {},
   "source": [
    "when trying to use specific movie we have to use id, the one provided with the dataset have a lot of missing ids but at the same time they aren't NaN values,"
   ]
  },
  {
   "cell_type": "code",
   "execution_count": 22,
   "metadata": {},
   "outputs": [
    {
     "data": {
      "text/html": [
       "<div>\n",
       "<style scoped>\n",
       "    .dataframe tbody tr th:only-of-type {\n",
       "        vertical-align: middle;\n",
       "    }\n",
       "\n",
       "    .dataframe tbody tr th {\n",
       "        vertical-align: top;\n",
       "    }\n",
       "\n",
       "    .dataframe thead th {\n",
       "        text-align: right;\n",
       "    }\n",
       "</style>\n",
       "<table border=\"1\" class=\"dataframe\">\n",
       "  <thead>\n",
       "    <tr style=\"text-align: right;\">\n",
       "      <th></th>\n",
       "      <th>show_id</th>\n",
       "      <th>type</th>\n",
       "      <th>title</th>\n",
       "      <th>director</th>\n",
       "      <th>cast</th>\n",
       "      <th>country</th>\n",
       "      <th>date_added</th>\n",
       "      <th>release_year</th>\n",
       "      <th>rating</th>\n",
       "      <th>duration</th>\n",
       "      <th>listed_in</th>\n",
       "      <th>description</th>\n",
       "      <th>overall_infos</th>\n",
       "    </tr>\n",
       "  </thead>\n",
       "  <tbody>\n",
       "    <tr>\n",
       "      <th>4505</th>\n",
       "      <td>s5560</td>\n",
       "      <td>Movie</td>\n",
       "      <td>Felipe Neto: My Life Makes No Sense</td>\n",
       "      <td>Diego Pignataro</td>\n",
       "      <td>Felipe Neto</td>\n",
       "      <td>Brazil</td>\n",
       "      <td>March 24, 2017</td>\n",
       "      <td>2017</td>\n",
       "      <td>TV-MA</td>\n",
       "      <td>91 min</td>\n",
       "      <td>Stand-Up Comedy</td>\n",
       "      <td>YouTube sensation Felipe Neto brings the stori...</td>\n",
       "      <td>Movie Felipe Neto: My Life Makes No Sense Dieg...</td>\n",
       "    </tr>\n",
       "    <tr>\n",
       "      <th>4506</th>\n",
       "      <td>s5561</td>\n",
       "      <td>Movie</td>\n",
       "      <td>The C Word</td>\n",
       "      <td>Meghan O'Hara</td>\n",
       "      <td>Morgan Freeman</td>\n",
       "      <td>United States</td>\n",
       "      <td>March 24, 2017</td>\n",
       "      <td>2016</td>\n",
       "      <td>TV-14</td>\n",
       "      <td>93 min</td>\n",
       "      <td>Documentaries</td>\n",
       "      <td>To solve the mystery of cancer, challenging th...</td>\n",
       "      <td>Movie The C Word Meghan O'Hara Morgan Freeman ...</td>\n",
       "    </tr>\n",
       "    <tr>\n",
       "      <th>4507</th>\n",
       "      <td>s5562</td>\n",
       "      <td>Movie</td>\n",
       "      <td>The Most Hated Woman in America</td>\n",
       "      <td>Tommy O'Haver</td>\n",
       "      <td>Melissa Leo, Josh Lucas, Vincent Kartheiser, J...</td>\n",
       "      <td>United States</td>\n",
       "      <td>March 24, 2017</td>\n",
       "      <td>2017</td>\n",
       "      <td>TV-MA</td>\n",
       "      <td>93 min</td>\n",
       "      <td>Dramas</td>\n",
       "      <td>This drama follows the controversial life of o...</td>\n",
       "      <td>Movie The Most Hated Woman in America Tommy O'...</td>\n",
       "    </tr>\n",
       "    <tr>\n",
       "      <th>4508</th>\n",
       "      <td>s5563</td>\n",
       "      <td>TV Show</td>\n",
       "      <td>Dave Chappelle</td>\n",
       "      <td>Stan Lathan</td>\n",
       "      <td>Dave Chappelle</td>\n",
       "      <td>United States</td>\n",
       "      <td>March 21, 2017</td>\n",
       "      <td>2017</td>\n",
       "      <td>TV-MA</td>\n",
       "      <td>1 Season</td>\n",
       "      <td>Stand-Up Comedy &amp; Talk Shows, TV Comedies</td>\n",
       "      <td>Comedy icon Dave Chappelle makes his triumphan...</td>\n",
       "      <td>TV Show Dave Chappelle Stan Lathan Dave Chappe...</td>\n",
       "    </tr>\n",
       "  </tbody>\n",
       "</table>\n",
       "</div>"
      ],
      "text/plain": [
       "     show_id     type                                title         director  \\\n",
       "4505   s5560    Movie  Felipe Neto: My Life Makes No Sense  Diego Pignataro   \n",
       "4506   s5561    Movie                           The C Word    Meghan O'Hara   \n",
       "4507   s5562    Movie      The Most Hated Woman in America    Tommy O'Haver   \n",
       "4508   s5563  TV Show                       Dave Chappelle      Stan Lathan   \n",
       "\n",
       "                                                   cast        country  \\\n",
       "4505                                        Felipe Neto         Brazil   \n",
       "4506                                     Morgan Freeman  United States   \n",
       "4507  Melissa Leo, Josh Lucas, Vincent Kartheiser, J...  United States   \n",
       "4508                                     Dave Chappelle  United States   \n",
       "\n",
       "          date_added  release_year rating  duration  \\\n",
       "4505  March 24, 2017          2017  TV-MA    91 min   \n",
       "4506  March 24, 2017          2016  TV-14    93 min   \n",
       "4507  March 24, 2017          2017  TV-MA    93 min   \n",
       "4508  March 21, 2017          2017  TV-MA  1 Season   \n",
       "\n",
       "                                      listed_in  \\\n",
       "4505                            Stand-Up Comedy   \n",
       "4506                              Documentaries   \n",
       "4507                                     Dramas   \n",
       "4508  Stand-Up Comedy & Talk Shows, TV Comedies   \n",
       "\n",
       "                                            description  \\\n",
       "4505  YouTube sensation Felipe Neto brings the stori...   \n",
       "4506  To solve the mystery of cancer, challenging th...   \n",
       "4507  This drama follows the controversial life of o...   \n",
       "4508  Comedy icon Dave Chappelle makes his triumphan...   \n",
       "\n",
       "                                          overall_infos  \n",
       "4505  Movie Felipe Neto: My Life Makes No Sense Dieg...  \n",
       "4506  Movie The C Word Meghan O'Hara Morgan Freeman ...  \n",
       "4507  Movie The Most Hated Woman in America Tommy O'...  \n",
       "4508  TV Show Dave Chappelle Stan Lathan Dave Chappe...  "
      ]
     },
     "execution_count": 22,
     "metadata": {},
     "output_type": "execute_result"
    }
   ],
   "source": [
    "df.iloc[4505:4509]"
   ]
  },
  {
   "attachments": {},
   "cell_type": "markdown",
   "metadata": {},
   "source": [
    "Create own id"
   ]
  },
  {
   "cell_type": "code",
   "execution_count": 23,
   "metadata": {},
   "outputs": [],
   "source": [
    "df.insert(1, \"id\", list(range(1,7306)), True)"
   ]
  },
  {
   "attachments": {},
   "cell_type": "markdown",
   "metadata": {},
   "source": [
    "see feature we will use"
   ]
  },
  {
   "cell_type": "code",
   "execution_count": 24,
   "metadata": {},
   "outputs": [
    {
     "data": {
      "text/html": [
       "<div>\n",
       "<style scoped>\n",
       "    .dataframe tbody tr th:only-of-type {\n",
       "        vertical-align: middle;\n",
       "    }\n",
       "\n",
       "    .dataframe tbody tr th {\n",
       "        vertical-align: top;\n",
       "    }\n",
       "\n",
       "    .dataframe thead th {\n",
       "        text-align: right;\n",
       "    }\n",
       "</style>\n",
       "<table border=\"1\" class=\"dataframe\">\n",
       "  <thead>\n",
       "    <tr style=\"text-align: right;\">\n",
       "      <th></th>\n",
       "      <th>id</th>\n",
       "      <th>overall_infos</th>\n",
       "    </tr>\n",
       "  </thead>\n",
       "  <tbody>\n",
       "    <tr>\n",
       "      <th>0</th>\n",
       "      <td>1</td>\n",
       "      <td>TV Show Blood &amp; Water Unknown Ama Qamata, Khos...</td>\n",
       "    </tr>\n",
       "  </tbody>\n",
       "</table>\n",
       "</div>"
      ],
      "text/plain": [
       "   id                                      overall_infos\n",
       "0   1  TV Show Blood & Water Unknown Ama Qamata, Khos..."
      ]
     },
     "execution_count": 24,
     "metadata": {},
     "output_type": "execute_result"
    }
   ],
   "source": [
    "df_new = df[['id','overall_infos']]\n",
    "df_new.head(1)"
   ]
  },
  {
   "attachments": {},
   "cell_type": "markdown",
   "metadata": {},
   "source": [
    "Text preprosessing"
   ]
  },
  {
   "attachments": {},
   "cell_type": "markdown",
   "metadata": {},
   "source": [
    "Before calculating similarity, a text preprocessing is need to be applied on the new feature, to make it easier for the cosine similarity algorithm when deal with each row after transforming them into vectors"
   ]
  },
  {
   "cell_type": "code",
   "execution_count": 1,
   "metadata": {},
   "outputs": [
    {
     "name": "stderr",
     "output_type": "stream",
     "text": [
      "[nltk_data] Error loading stopwords: <urlopen error [SSL:\n",
      "[nltk_data]     CERTIFICATE_VERIFY_FAILED] certificate verify failed:\n",
      "[nltk_data]     unable to get local issuer certificate (_ssl.c:997)>\n"
     ]
    },
    {
     "data": {
      "text/plain": [
       "False"
      ]
     },
     "execution_count": 1,
     "metadata": {},
     "output_type": "execute_result"
    }
   ],
   "source": [
    "import nltk\n",
    "from nltk.corpus import stopwords\n",
    "nltk.download('stopwords')"
   ]
  },
  {
   "cell_type": "code",
   "execution_count": 2,
   "metadata": {},
   "outputs": [
    {
     "name": "stdout",
     "output_type": "stream",
     "text": [
      "showing info https://raw.githubusercontent.com/nltk/nltk_data/gh-pages/index.xml\n"
     ]
    },
    {
     "data": {
      "text/plain": [
       "True"
      ]
     },
     "execution_count": 2,
     "metadata": {},
     "output_type": "execute_result"
    }
   ],
   "source": [
    "import nltk\n",
    "import ssl\n",
    "\n",
    "try:\n",
    "    _create_unverified_https_context = ssl._create_unverified_context\n",
    "except AttributeError:\n",
    "    pass\n",
    "else:\n",
    "    ssl._create_default_https_context = _create_unverified_https_context\n",
    "\n",
    "nltk.download()"
   ]
  },
  {
   "cell_type": "code",
   "execution_count": 4,
   "metadata": {},
   "outputs": [],
   "source": [
    "from nltk.corpus import stopwords\n",
    "stop = stopwords.words('english')"
   ]
  },
  {
   "cell_type": "code",
   "execution_count": 25,
   "metadata": {},
   "outputs": [],
   "source": [
    "def text_preprocessing(column):\n",
    "    #make all words with lower letters\n",
    "    column = column.str.lower()\n",
    "    #getting rid of any punctution\n",
    "    column = column.str.replace('http\\S+|www.\\S+|@|%|:|,|', '', case=False)\n",
    "    #spliting each sentence to words to apply previous funtions on them \n",
    "    word_tokens = column.str.split()\n",
    "    keywords = word_tokens.apply(lambda x: [item for item in x if item not in stop])\n",
    "    #assemble words of each sentence again and assign them in new column\n",
    "    for i in range(len(keywords)):\n",
    "        keywords[i] = \" \".join(keywords[i])\n",
    "        column = keywords\n",
    "\n",
    "    return column"
   ]
  },
  {
   "cell_type": "code",
   "execution_count": 26,
   "metadata": {},
   "outputs": [
    {
     "name": "stderr",
     "output_type": "stream",
     "text": [
      "/var/folders/_l/yj9wgfq114b02wl670d3npmr0000gn/T/ipykernel_30882/3812408918.py:5: FutureWarning: The default value of regex will change from True to False in a future version.\n",
      "  column = column.str.replace('http\\S+|www.\\S+|@|%|:|,|', '', case=False)\n",
      "/var/folders/_l/yj9wgfq114b02wl670d3npmr0000gn/T/ipykernel_30882/3077776638.py:1: SettingWithCopyWarning: \n",
      "A value is trying to be set on a copy of a slice from a DataFrame.\n",
      "Try using .loc[row_indexer,col_indexer] = value instead\n",
      "\n",
      "See the caveats in the documentation: https://pandas.pydata.org/pandas-docs/stable/user_guide/indexing.html#returning-a-view-versus-a-copy\n",
      "  df_new['cleaned_infos'] = text_preprocessing(df_new['overall_infos'])\n"
     ]
    }
   ],
   "source": [
    "df_new['cleaned_infos'] = text_preprocessing(df_new['overall_infos'])"
   ]
  },
  {
   "attachments": {},
   "cell_type": "markdown",
   "metadata": {},
   "source": [
    "see the difference between before and after preprocessing"
   ]
  },
  {
   "cell_type": "code",
   "execution_count": 27,
   "metadata": {},
   "outputs": [
    {
     "data": {
      "text/plain": [
       "'TV Show Dear White People Unknown Logan Browning, Brandon P. Bell, DeRon Horton, Antoinette Robertson, John Patrick Amedori, Ashley Blaine Featherson, Marque Richardson, Giancarlo Esposito Students of color navigate the daily slights and slippery politics of life at an Ivy League college that\\'s not nearly as \"post-racial\" as it thinks. United States'"
      ]
     },
     "execution_count": 27,
     "metadata": {},
     "output_type": "execute_result"
    }
   ],
   "source": [
    "df['overall_infos'][6]"
   ]
  },
  {
   "cell_type": "code",
   "execution_count": 28,
   "metadata": {},
   "outputs": [
    {
     "data": {
      "text/plain": [
       "'tv show dear white people unknown logan browning brandon p. bell deron horton antoinette robertson john patrick amedori ashley blaine featherson marque richardson giancarlo esposito students color navigate daily slights slippery politics life ivy league college that\\'s nearly \"post-racial\" thinks. united states'"
      ]
     },
     "execution_count": 28,
     "metadata": {},
     "output_type": "execute_result"
    }
   ],
   "source": [
    "df_new['cleaned_infos'][6]"
   ]
  },
  {
   "attachments": {},
   "cell_type": "markdown",
   "metadata": {},
   "source": [
    "To apply Cosine similarity we need to transform each sentence into vector, CountVectorizer will do this for us and combine them all in one matrix"
   ]
  },
  {
   "cell_type": "code",
   "execution_count": 29,
   "metadata": {},
   "outputs": [],
   "source": [
    "from sklearn.feature_extraction.text import CountVectorizer\n",
    "from sklearn.metrics.pairwise import cosine_similarity\n",
    "\n",
    "CV = CountVectorizer()\n",
    "converted_metrix = CV.fit_transform(df_new['cleaned_infos'])"
   ]
  },
  {
   "cell_type": "code",
   "execution_count": 30,
   "metadata": {},
   "outputs": [],
   "source": [
    "cosine_similarity = cosine_similarity(converted_metrix)"
   ]
  },
  {
   "attachments": {},
   "cell_type": "markdown",
   "metadata": {},
   "source": [
    "see the matrix"
   ]
  },
  {
   "cell_type": "code",
   "execution_count": 31,
   "metadata": {},
   "outputs": [
    {
     "data": {
      "text/plain": [
       "array([[1.        , 0.05856516, 0.        , ..., 0.        , 0.        ,\n",
       "        0.        ],\n",
       "       [0.05856516, 1.        , 0.        , ..., 0.02678358, 0.04938648,\n",
       "        0.07919455],\n",
       "       [0.        , 0.        , 1.        , ..., 0.10006256, 0.09225312,\n",
       "        0.04931137],\n",
       "       ...,\n",
       "       [0.        , 0.02678358, 0.10006256, ..., 1.        , 0.10846523,\n",
       "        0.02898855],\n",
       "       [0.        , 0.04938648, 0.09225312, ..., 0.10846523, 1.        ,\n",
       "        0.02672612],\n",
       "       [0.        , 0.07919455, 0.04931137, ..., 0.02898855, 0.02672612,\n",
       "        1.        ]])"
      ]
     },
     "execution_count": 31,
     "metadata": {},
     "output_type": "execute_result"
    }
   ],
   "source": [
    "cosine_similarity"
   ]
  },
  {
   "attachments": {},
   "cell_type": "markdown",
   "metadata": {},
   "source": [
    "Testing"
   ]
  },
  {
   "cell_type": "code",
   "execution_count": 32,
   "metadata": {},
   "outputs": [
    {
     "data": {
      "text/html": [
       "<div>\n",
       "<style scoped>\n",
       "    .dataframe tbody tr th:only-of-type {\n",
       "        vertical-align: middle;\n",
       "    }\n",
       "\n",
       "    .dataframe tbody tr th {\n",
       "        vertical-align: top;\n",
       "    }\n",
       "\n",
       "    .dataframe thead th {\n",
       "        text-align: right;\n",
       "    }\n",
       "</style>\n",
       "<table border=\"1\" class=\"dataframe\">\n",
       "  <thead>\n",
       "    <tr style=\"text-align: right;\">\n",
       "      <th></th>\n",
       "      <th>show_id</th>\n",
       "      <th>id</th>\n",
       "      <th>type</th>\n",
       "      <th>title</th>\n",
       "      <th>director</th>\n",
       "      <th>cast</th>\n",
       "      <th>country</th>\n",
       "      <th>date_added</th>\n",
       "      <th>release_year</th>\n",
       "      <th>rating</th>\n",
       "      <th>duration</th>\n",
       "      <th>listed_in</th>\n",
       "      <th>description</th>\n",
       "      <th>overall_infos</th>\n",
       "    </tr>\n",
       "  </thead>\n",
       "  <tbody>\n",
       "    <tr>\n",
       "      <th>39</th>\n",
       "      <td>s64</td>\n",
       "      <td>40</td>\n",
       "      <td>Movie</td>\n",
       "      <td>Naruto the Movie: Ninja Clash in the Land of Snow</td>\n",
       "      <td>Tensai Okamura</td>\n",
       "      <td>Junko Takeuchi, Noriaki Sugiyama, Chie Nakamur...</td>\n",
       "      <td>Japan</td>\n",
       "      <td>September 15, 2021</td>\n",
       "      <td>2004</td>\n",
       "      <td>TV-PG</td>\n",
       "      <td>83 min</td>\n",
       "      <td>Action &amp; Adventure, Anime Features, Internatio...</td>\n",
       "      <td>Naruto, Sasuke and Sakura learn they'll be pro...</td>\n",
       "      <td>Movie Naruto the Movie: Ninja Clash in the Lan...</td>\n",
       "    </tr>\n",
       "    <tr>\n",
       "      <th>512</th>\n",
       "      <td>s803</td>\n",
       "      <td>513</td>\n",
       "      <td>Movie</td>\n",
       "      <td>Ninja Assassin</td>\n",
       "      <td>James McTeigue</td>\n",
       "      <td>Rain, Naomie Harris, Ben Miles, Rick Yune, Shô...</td>\n",
       "      <td>Germany, United States, France</td>\n",
       "      <td>June 2, 2021</td>\n",
       "      <td>2009</td>\n",
       "      <td>R</td>\n",
       "      <td>99 min</td>\n",
       "      <td>Action &amp; Adventure</td>\n",
       "      <td>A former assassin must protect himself and a E...</td>\n",
       "      <td>Movie Ninja Assassin James McTeigue Rain, Naom...</td>\n",
       "    </tr>\n",
       "    <tr>\n",
       "      <th>926</th>\n",
       "      <td>s1351</td>\n",
       "      <td>927</td>\n",
       "      <td>TV Show</td>\n",
       "      <td>Power Rangers Ninja Steel</td>\n",
       "      <td>Unknown</td>\n",
       "      <td>William Shewfelt, Nico Greetham, Zoe Robins, P...</td>\n",
       "      <td>United States</td>\n",
       "      <td>February 3, 2021</td>\n",
       "      <td>2018</td>\n",
       "      <td>TV-Y7</td>\n",
       "      <td>2 Seasons</td>\n",
       "      <td>Kids' TV</td>\n",
       "      <td>A new generation of teen heroes uses superhuma...</td>\n",
       "      <td>TV Show Power Rangers Ninja Steel Unknown Will...</td>\n",
       "    </tr>\n",
       "    <tr>\n",
       "      <th>929</th>\n",
       "      <td>s1354</td>\n",
       "      <td>930</td>\n",
       "      <td>Movie</td>\n",
       "      <td>Beverly Hills Ninja</td>\n",
       "      <td>Dennis Dugan</td>\n",
       "      <td>Chris Farley, Nicollette Sheridan, Robin Shou,...</td>\n",
       "      <td>United States</td>\n",
       "      <td>February 1, 2021</td>\n",
       "      <td>1997</td>\n",
       "      <td>PG-13</td>\n",
       "      <td>89 min</td>\n",
       "      <td>Action &amp; Adventure, Comedies</td>\n",
       "      <td>Raised by ninjas, a big-hearted but bumbling o...</td>\n",
       "      <td>Movie Beverly Hills Ninja Dennis Dugan Chris F...</td>\n",
       "    </tr>\n",
       "    <tr>\n",
       "      <th>965</th>\n",
       "      <td>s1396</td>\n",
       "      <td>966</td>\n",
       "      <td>TV Show</td>\n",
       "      <td>Hello Ninja</td>\n",
       "      <td>Unknown</td>\n",
       "      <td>Lukas Engel, Zoey Siewert, Sam Vincent, Mayumi...</td>\n",
       "      <td>United States</td>\n",
       "      <td>January 19, 2021</td>\n",
       "      <td>2021</td>\n",
       "      <td>TV-Y</td>\n",
       "      <td>4 Seasons</td>\n",
       "      <td>Kids' TV</td>\n",
       "      <td>BFFs Wesley and Georgie and their silly cat si...</td>\n",
       "      <td>TV Show Hello Ninja Unknown Lukas Engel, Zoey ...</td>\n",
       "    </tr>\n",
       "    <tr>\n",
       "      <th>1276</th>\n",
       "      <td>s1759</td>\n",
       "      <td>1277</td>\n",
       "      <td>TV Show</td>\n",
       "      <td>LEGO Ninjago</td>\n",
       "      <td>Unknown</td>\n",
       "      <td>Michael Adamthwaite, Paul Dobson, Kelly Metzge...</td>\n",
       "      <td>Canada</td>\n",
       "      <td>November 1, 2020</td>\n",
       "      <td>2020</td>\n",
       "      <td>TV-Y7</td>\n",
       "      <td>2 Seasons</td>\n",
       "      <td>Kids' TV</td>\n",
       "      <td>While fighting foes across Ninjago City and be...</td>\n",
       "      <td>TV Show LEGO Ninjago Unknown Michael Adamthwai...</td>\n",
       "    </tr>\n",
       "    <tr>\n",
       "      <th>1277</th>\n",
       "      <td>s1760</td>\n",
       "      <td>1278</td>\n",
       "      <td>TV Show</td>\n",
       "      <td>LEGO Ninjago: Masters of Spinjitzu</td>\n",
       "      <td>Unknown</td>\n",
       "      <td>Vincent Tong, Jillian Michaels, Ian James Corl...</td>\n",
       "      <td>Denmark, Singapore, Canada, United States</td>\n",
       "      <td>November 1, 2020</td>\n",
       "      <td>2019</td>\n",
       "      <td>TV-Y7</td>\n",
       "      <td>10 Seasons</td>\n",
       "      <td>Kids' TV</td>\n",
       "      <td>Kai, Jay, Cole and Zane must master their elem...</td>\n",
       "      <td>TV Show LEGO Ninjago: Masters of Spinjitzu Unk...</td>\n",
       "    </tr>\n",
       "    <tr>\n",
       "      <th>5553</th>\n",
       "      <td>s6766</td>\n",
       "      <td>5554</td>\n",
       "      <td>Movie</td>\n",
       "      <td>Five Elements Ninjas</td>\n",
       "      <td>Cheh Chang</td>\n",
       "      <td>Tien-chi Cheng, Tien Hsiang Lung, Meng Lo, Mic...</td>\n",
       "      <td>Hong Kong</td>\n",
       "      <td>September 17, 2019</td>\n",
       "      <td>1982</td>\n",
       "      <td>R</td>\n",
       "      <td>104 min</td>\n",
       "      <td>Action &amp; Adventure, International Movies</td>\n",
       "      <td>When five ninjas whose fighting styles are bas...</td>\n",
       "      <td>Movie Five Elements Ninjas Cheh Chang Tien-chi...</td>\n",
       "    </tr>\n",
       "    <tr>\n",
       "      <th>6253</th>\n",
       "      <td>s7589</td>\n",
       "      <td>6254</td>\n",
       "      <td>TV Show</td>\n",
       "      <td>Ninja Hattori</td>\n",
       "      <td>Unknown</td>\n",
       "      <td>Junko Hori, Masako Sugaya, Yuko Mita, Kaneta K...</td>\n",
       "      <td>Japan</td>\n",
       "      <td>December 23, 2018</td>\n",
       "      <td>1981</td>\n",
       "      <td>TV-Y7</td>\n",
       "      <td>1 Season</td>\n",
       "      <td>Anime Series, Kids' TV</td>\n",
       "      <td>Elementary school student Kenichi Mitsuba's ho...</td>\n",
       "      <td>TV Show Ninja Hattori Unknown Junko Hori, Masa...</td>\n",
       "    </tr>\n",
       "    <tr>\n",
       "      <th>6254</th>\n",
       "      <td>s7590</td>\n",
       "      <td>6255</td>\n",
       "      <td>TV Show</td>\n",
       "      <td>Ninja Turtles: The Next Mutation</td>\n",
       "      <td>Unknown</td>\n",
       "      <td>Jarred Blancard, Mitchell A. Lee Yuen, Dean Ch...</td>\n",
       "      <td>Canada, United States</td>\n",
       "      <td>January 1, 2016</td>\n",
       "      <td>1997</td>\n",
       "      <td>TV-G</td>\n",
       "      <td>1 Season</td>\n",
       "      <td>Kids' TV, TV Comedies</td>\n",
       "      <td>Everyone's favorite teenage mutants are back i...</td>\n",
       "      <td>TV Show Ninja Turtles: The Next Mutation Unkno...</td>\n",
       "    </tr>\n",
       "    <tr>\n",
       "      <th>6407</th>\n",
       "      <td>s7770</td>\n",
       "      <td>6408</td>\n",
       "      <td>TV Show</td>\n",
       "      <td>Power Rangers Ninja Storm</td>\n",
       "      <td>Unknown</td>\n",
       "      <td>Pua Magasiva, Sally Martin, Glenn McMillan, Ad...</td>\n",
       "      <td>United States, New Zealand</td>\n",
       "      <td>January 1, 2016</td>\n",
       "      <td>2003</td>\n",
       "      <td>TV-Y7</td>\n",
       "      <td>1 Season</td>\n",
       "      <td>Kids' TV</td>\n",
       "      <td>When the elite warriors from the Wind Ninja Ac...</td>\n",
       "      <td>TV Show Power Rangers Ninja Storm Unknown Pua ...</td>\n",
       "    </tr>\n",
       "    <tr>\n",
       "      <th>6757</th>\n",
       "      <td>s8159</td>\n",
       "      <td>6758</td>\n",
       "      <td>Movie</td>\n",
       "      <td>Teenage Mutant Ninja Turtles</td>\n",
       "      <td>Kevin Munroe</td>\n",
       "      <td>Chris Evans, Sarah Michelle Gellar, Mako Iwama...</td>\n",
       "      <td>Hong Kong, United States</td>\n",
       "      <td>May 1, 2019</td>\n",
       "      <td>2007</td>\n",
       "      <td>PG</td>\n",
       "      <td>87 min</td>\n",
       "      <td>Children &amp; Family Movies, Comedies</td>\n",
       "      <td>In this animated adventure, Master Splinter wh...</td>\n",
       "      <td>Movie Teenage Mutant Ninja Turtles Kevin Munro...</td>\n",
       "    </tr>\n",
       "    <tr>\n",
       "      <th>6758</th>\n",
       "      <td>s8160</td>\n",
       "      <td>6759</td>\n",
       "      <td>Movie</td>\n",
       "      <td>Teenage Mutant Ninja Turtles II: The Secret of...</td>\n",
       "      <td>Michael Pressman</td>\n",
       "      <td>Paige Turco, David Warner, Mark Caso, Michelan...</td>\n",
       "      <td>United States, Hong Kong</td>\n",
       "      <td>January 1, 2020</td>\n",
       "      <td>1991</td>\n",
       "      <td>PG</td>\n",
       "      <td>88 min</td>\n",
       "      <td>Children &amp; Family Movies, Comedies</td>\n",
       "      <td>The evil Shredder decides that ooze is what gi...</td>\n",
       "      <td>Movie Teenage Mutant Ninja Turtles II: The Sec...</td>\n",
       "    </tr>\n",
       "  </tbody>\n",
       "</table>\n",
       "</div>"
      ],
      "text/plain": [
       "     show_id    id     type  \\\n",
       "39       s64    40    Movie   \n",
       "512     s803   513    Movie   \n",
       "926    s1351   927  TV Show   \n",
       "929    s1354   930    Movie   \n",
       "965    s1396   966  TV Show   \n",
       "1276   s1759  1277  TV Show   \n",
       "1277   s1760  1278  TV Show   \n",
       "5553   s6766  5554    Movie   \n",
       "6253   s7589  6254  TV Show   \n",
       "6254   s7590  6255  TV Show   \n",
       "6407   s7770  6408  TV Show   \n",
       "6757   s8159  6758    Movie   \n",
       "6758   s8160  6759    Movie   \n",
       "\n",
       "                                                  title          director  \\\n",
       "39    Naruto the Movie: Ninja Clash in the Land of Snow    Tensai Okamura   \n",
       "512                                      Ninja Assassin    James McTeigue   \n",
       "926                           Power Rangers Ninja Steel           Unknown   \n",
       "929                                 Beverly Hills Ninja      Dennis Dugan   \n",
       "965                                         Hello Ninja           Unknown   \n",
       "1276                                       LEGO Ninjago           Unknown   \n",
       "1277                 LEGO Ninjago: Masters of Spinjitzu           Unknown   \n",
       "5553                               Five Elements Ninjas        Cheh Chang   \n",
       "6253                                      Ninja Hattori           Unknown   \n",
       "6254                   Ninja Turtles: The Next Mutation           Unknown   \n",
       "6407                          Power Rangers Ninja Storm           Unknown   \n",
       "6757                       Teenage Mutant Ninja Turtles      Kevin Munroe   \n",
       "6758  Teenage Mutant Ninja Turtles II: The Secret of...  Michael Pressman   \n",
       "\n",
       "                                                   cast  \\\n",
       "39    Junko Takeuchi, Noriaki Sugiyama, Chie Nakamur...   \n",
       "512   Rain, Naomie Harris, Ben Miles, Rick Yune, Shô...   \n",
       "926   William Shewfelt, Nico Greetham, Zoe Robins, P...   \n",
       "929   Chris Farley, Nicollette Sheridan, Robin Shou,...   \n",
       "965   Lukas Engel, Zoey Siewert, Sam Vincent, Mayumi...   \n",
       "1276  Michael Adamthwaite, Paul Dobson, Kelly Metzge...   \n",
       "1277  Vincent Tong, Jillian Michaels, Ian James Corl...   \n",
       "5553  Tien-chi Cheng, Tien Hsiang Lung, Meng Lo, Mic...   \n",
       "6253  Junko Hori, Masako Sugaya, Yuko Mita, Kaneta K...   \n",
       "6254  Jarred Blancard, Mitchell A. Lee Yuen, Dean Ch...   \n",
       "6407  Pua Magasiva, Sally Martin, Glenn McMillan, Ad...   \n",
       "6757  Chris Evans, Sarah Michelle Gellar, Mako Iwama...   \n",
       "6758  Paige Turco, David Warner, Mark Caso, Michelan...   \n",
       "\n",
       "                                        country          date_added  \\\n",
       "39                                        Japan  September 15, 2021   \n",
       "512              Germany, United States, France        June 2, 2021   \n",
       "926                               United States    February 3, 2021   \n",
       "929                               United States    February 1, 2021   \n",
       "965                               United States    January 19, 2021   \n",
       "1276                                     Canada    November 1, 2020   \n",
       "1277  Denmark, Singapore, Canada, United States    November 1, 2020   \n",
       "5553                                  Hong Kong  September 17, 2019   \n",
       "6253                                      Japan   December 23, 2018   \n",
       "6254                      Canada, United States     January 1, 2016   \n",
       "6407                 United States, New Zealand     January 1, 2016   \n",
       "6757                   Hong Kong, United States         May 1, 2019   \n",
       "6758                   United States, Hong Kong     January 1, 2020   \n",
       "\n",
       "      release_year rating    duration  \\\n",
       "39            2004  TV-PG      83 min   \n",
       "512           2009      R      99 min   \n",
       "926           2018  TV-Y7   2 Seasons   \n",
       "929           1997  PG-13      89 min   \n",
       "965           2021   TV-Y   4 Seasons   \n",
       "1276          2020  TV-Y7   2 Seasons   \n",
       "1277          2019  TV-Y7  10 Seasons   \n",
       "5553          1982      R     104 min   \n",
       "6253          1981  TV-Y7    1 Season   \n",
       "6254          1997   TV-G    1 Season   \n",
       "6407          2003  TV-Y7    1 Season   \n",
       "6757          2007     PG      87 min   \n",
       "6758          1991     PG      88 min   \n",
       "\n",
       "                                              listed_in  \\\n",
       "39    Action & Adventure, Anime Features, Internatio...   \n",
       "512                                  Action & Adventure   \n",
       "926                                            Kids' TV   \n",
       "929                        Action & Adventure, Comedies   \n",
       "965                                            Kids' TV   \n",
       "1276                                           Kids' TV   \n",
       "1277                                           Kids' TV   \n",
       "5553           Action & Adventure, International Movies   \n",
       "6253                             Anime Series, Kids' TV   \n",
       "6254                              Kids' TV, TV Comedies   \n",
       "6407                                           Kids' TV   \n",
       "6757                 Children & Family Movies, Comedies   \n",
       "6758                 Children & Family Movies, Comedies   \n",
       "\n",
       "                                            description  \\\n",
       "39    Naruto, Sasuke and Sakura learn they'll be pro...   \n",
       "512   A former assassin must protect himself and a E...   \n",
       "926   A new generation of teen heroes uses superhuma...   \n",
       "929   Raised by ninjas, a big-hearted but bumbling o...   \n",
       "965   BFFs Wesley and Georgie and their silly cat si...   \n",
       "1276  While fighting foes across Ninjago City and be...   \n",
       "1277  Kai, Jay, Cole and Zane must master their elem...   \n",
       "5553  When five ninjas whose fighting styles are bas...   \n",
       "6253  Elementary school student Kenichi Mitsuba's ho...   \n",
       "6254  Everyone's favorite teenage mutants are back i...   \n",
       "6407  When the elite warriors from the Wind Ninja Ac...   \n",
       "6757  In this animated adventure, Master Splinter wh...   \n",
       "6758  The evil Shredder decides that ooze is what gi...   \n",
       "\n",
       "                                          overall_infos  \n",
       "39    Movie Naruto the Movie: Ninja Clash in the Lan...  \n",
       "512   Movie Ninja Assassin James McTeigue Rain, Naom...  \n",
       "926   TV Show Power Rangers Ninja Steel Unknown Will...  \n",
       "929   Movie Beverly Hills Ninja Dennis Dugan Chris F...  \n",
       "965   TV Show Hello Ninja Unknown Lukas Engel, Zoey ...  \n",
       "1276  TV Show LEGO Ninjago Unknown Michael Adamthwai...  \n",
       "1277  TV Show LEGO Ninjago: Masters of Spinjitzu Unk...  \n",
       "5553  Movie Five Elements Ninjas Cheh Chang Tien-chi...  \n",
       "6253  TV Show Ninja Hattori Unknown Junko Hori, Masa...  \n",
       "6254  TV Show Ninja Turtles: The Next Mutation Unkno...  \n",
       "6407  TV Show Power Rangers Ninja Storm Unknown Pua ...  \n",
       "6757  Movie Teenage Mutant Ninja Turtles Kevin Munro...  \n",
       "6758  Movie Teenage Mutant Ninja Turtles II: The Sec...  "
      ]
     },
     "execution_count": 32,
     "metadata": {},
     "output_type": "execute_result"
    }
   ],
   "source": [
    "#finding the correct name of a movie\n",
    "df[df['title'].str.contains('Ninja')]"
   ]
  },
  {
   "cell_type": "code",
   "execution_count": 33,
   "metadata": {},
   "outputs": [],
   "source": [
    "#this how we will get the id of the movie so we can check similarity between it and other movies\n",
    "title = 'Teenage Mutant Ninja Turtles'\n",
    "\n",
    "movie_id = df[df['title'] == title]['id'].values[0]"
   ]
  },
  {
   "cell_type": "code",
   "execution_count": 34,
   "metadata": {},
   "outputs": [],
   "source": [
    "score = list(enumerate(cosine_similarity[movie_id]))"
   ]
  },
  {
   "cell_type": "code",
   "execution_count": 35,
   "metadata": {},
   "outputs": [],
   "source": [
    "#now sort the similar movies in descending order\n",
    "sorted_score = sorted(score, key=lambda x:x[1], reverse= True)\n",
    "#we will ignore the first score because it will give us a 100% score because it's the same movie \n",
    "sorted_score = sorted_score[1:]"
   ]
  },
  {
   "cell_type": "code",
   "execution_count": 36,
   "metadata": {},
   "outputs": [
    {
     "data": {
      "text/plain": [
       "[(6757, 0.33333333333333337),\n",
       " (3136, 0.1986798535597566),\n",
       " (6254, 0.1986798535597566),\n",
       " (4483, 0.19529164171612678),\n",
       " (3947, 0.18848425873126295),\n",
       " (5912, 0.18848425873126295),\n",
       " (4840, 0.1861714808514273),\n",
       " (5914, 0.1861714808514273),\n",
       " (1217, 0.18394180184548975),\n",
       " (2324, 0.18179036173052482)]"
      ]
     },
     "execution_count": 36,
     "metadata": {},
     "output_type": "execute_result"
    }
   ],
   "source": [
    "sorted_score[0:10]"
   ]
  },
  {
   "cell_type": "code",
   "execution_count": 37,
   "metadata": {},
   "outputs": [
    {
     "name": "stdout",
     "output_type": "stream",
     "text": [
      "1 Teenage Cocktail\n",
      "2 Jagat\n",
      "3 Ninja Hattori\n",
      "4 Macho\n",
      "5 Psychokinesis\n"
     ]
    }
   ],
   "source": [
    "#now showing the top 5 movies similar to TMNT accroding to this algorithm\n",
    "i = 0\n",
    "for item in sorted_score:\n",
    "    movie_title = df[df['id'] == item[0]]['title'].values[0]\n",
    "    print(i+1,movie_title)\n",
    "    i = i+1\n",
    "    if i > 4:\n",
    "        break"
   ]
  },
  {
   "attachments": {},
   "cell_type": "markdown",
   "metadata": {},
   "source": [
    "Try make your own recommendation (horror, etc)"
   ]
  },
  {
   "cell_type": "code",
   "execution_count": null,
   "metadata": {},
   "outputs": [],
   "source": []
  }
 ],
 "metadata": {
  "kernelspec": {
   "display_name": "Python 3",
   "language": "python",
   "name": "python3"
  },
  "language_info": {
   "codemirror_mode": {
    "name": "ipython",
    "version": 3
   },
   "file_extension": ".py",
   "mimetype": "text/x-python",
   "name": "python",
   "nbconvert_exporter": "python",
   "pygments_lexer": "ipython3",
   "version": "3.10.5"
  },
  "orig_nbformat": 4
 },
 "nbformat": 4,
 "nbformat_minor": 2
}
